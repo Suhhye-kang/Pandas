{
 "cells": [
  {
   "cell_type": "markdown",
   "metadata": {},
   "source": [
    "## Display"
   ]
  },
  {
   "cell_type": "markdown",
   "metadata": {},
   "source": [
    "### 해당 문서에 디스플레이되는 모든 숫자를 000,000형태로 표시 (콤마, comma)\n",
    "pd.options.display.float_format = '{:,}'.format\n"
   ]
  },
  {
   "cell_type": "markdown",
   "metadata": {},
   "source": [
    "### 해당 문서에 표시되는 모든 숫자를 소수점 1자리로 표시 (소수점, precision)\n",
    "pd.options.display.float_format = \"{:,.1f}\".format"
   ]
  },
  {
   "cell_type": "markdown",
   "metadata": {},
   "source": [
    "## Read"
   ]
  },
  {
   "cell_type": "markdown",
   "metadata": {},
   "source": [
    "### 엑셀 읽기, 쓰기 (excel)\n",
    "df=pd.read_excel(\"/Users/kang/Documents/Github/Pandas/Exercise/lending/abc.xlsx\")\n",
    "df.to_excel(\"/Users/kang/Documents/Github/Pandas/Exercise/lending/abc.xlsx\")"
   ]
  },
  {
   "cell_type": "markdown",
   "metadata": {},
   "source": [
    "### 열의 데이터가 특정 값에 해당하는 데이터 찾기\n",
    "df1=df[df['years']==2019]"
   ]
  },
  {
   "cell_type": "markdown",
   "metadata": {},
   "source": [
    "### 열의 데이터가 특정값에 해당하는 데이터 찾기 2 \n",
    "apartment=building[building['재산의 종류'].isin(['아파트','아파트전세(임차)권','아파트(분양권)'])]"
   ]
  },
  {
   "cell_type": "markdown",
   "metadata": {},
   "source": [
    "### 열의 데이터가 특정값을 포함하는 데이터 찾기\n",
    "df1=df[['재산의 종류'].str.contains(\"아파트\")]"
   ]
  },
  {
   "cell_type": "markdown",
   "metadata": {},
   "source": [
    "### 특정 문자열을 특정 문자열로 전환하기\n",
    "df['광역시']=df['광역시'].str.replace('세종특별자치시','세종')"
   ]
  },
  {
   "cell_type": "markdown",
   "metadata": {},
   "source": [
    "### 특정 문자열이 특정 문자열을 포함하고 있을 때, 조건에 해당하는 모든 값을 특정 문자열로 변경하기 (if)\n",
    "df.loc[df['sport'].str.contains('ball', case=False), 'sport'] = 'ball sport'\n"
   ]
  },
  {
   "cell_type": "markdown",
   "metadata": {},
   "source": [
    "### 특정 문자열의 길이 \n",
    "df['자치구'].str.len()"
   ]
  },
  {
   "cell_type": "markdown",
   "metadata": {},
   "source": [
    "## Read"
   ]
  },
  {
   "cell_type": "markdown",
   "metadata": {},
   "source": [
    "### 분위 나누기\n",
    "sum1['분위']=pd.qcut(sum1['현재가액'],5,labels=[\"1\",\"2\",\"3\",\"4\",\"5\"],duplicates='raise') \n",
    "\n",
    "a=pd.qcut(sum1['현재가액'],5,labels=None,retbins=True,precision=0,duplicates='raise'): 분위별 구간 확인"
   ]
  },
  {
   "cell_type": "markdown",
   "metadata": {},
   "source": [
    "### 합치기 (merge)\n",
    "df_percentile=df1.merge(sum1,on=['성명'])"
   ]
  },
  {
   "cell_type": "markdown",
   "metadata": {},
   "source": [
    "### 행, 열 지우기 (delete)\n",
    "del df['현재가액_y'] \n",
    "\n",
    "df.drop(df.loc[df['대분류']=='채무'].index,inplace=True)"
   ]
  },
  {
   "cell_type": "markdown",
   "metadata": {},
   "source": [
    "### null, NaN, 빈 값 채우기\n",
    "df['test1'].fillna('모름', inplace=True)"
   ]
  },
  {
   "cell_type": "markdown",
   "metadata": {},
   "source": [
    "### 피벗테이블 만들기 (pivot)\n",
    "pivot_increase=increase.pivot(index='대분류',columns='분위',values='증가액')\n",
    "pivot_increase"
   ]
  },
  {
   "cell_type": "markdown",
   "metadata": {},
   "source": [
    "### 100% 그룹별 누적 막대 그래프 (100% stacked categorical bar chart)\n",
    "pivot_increase.plot.bar(stacked=True, figsize=(10,7))\n",
    "\n",
    ": 카테고리별로 나눠보려면 일단 피벗부터 그려야함 (파이선은 데이터가 아래로 떨어지므로)"
   ]
  },
  {
   "cell_type": "markdown",
   "metadata": {},
   "source": [
    "### 그룹별 퍼센트 구하기\n",
    "increase['증가율']=100*increase['증가액']/increase.groupby(['분위'])['증가액'].transform('sum')"
   ]
  },
  {
   "cell_type": "markdown",
   "metadata": {},
   "source": [
    "### object  string 으로 바꾸기\n",
    "\n",
    "df['재산의 종류'].astype(str)"
   ]
  },
  {
   "cell_type": "code",
   "execution_count": null,
   "metadata": {},
   "outputs": [],
   "source": []
  }
 ],
 "metadata": {
  "kernelspec": {
   "display_name": "Python 3",
   "language": "python",
   "name": "python3"
  },
  "language_info": {
   "codemirror_mode": {
    "name": "ipython",
    "version": 3
   },
   "file_extension": ".py",
   "mimetype": "text/x-python",
   "name": "python",
   "nbconvert_exporter": "python",
   "pygments_lexer": "ipython3",
   "version": "3.7.6"
  }
 },
 "nbformat": 4,
 "nbformat_minor": 4
}
