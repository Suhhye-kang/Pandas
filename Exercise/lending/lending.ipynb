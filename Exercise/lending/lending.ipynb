{
 "cells": [
  {
   "cell_type": "code",
   "execution_count": 1,
   "metadata": {},
   "outputs": [],
   "source": [
    "import pandas as pd"
   ]
  },
  {
   "cell_type": "code",
   "execution_count": 68,
   "metadata": {},
   "outputs": [],
   "source": [
    "join=pd.read_excel(\"/Users/kang/Documents/Github/Pandas/Exercise/lending/join.xlsx\")"
   ]
  },
  {
   "cell_type": "code",
   "execution_count": 4,
   "metadata": {},
   "outputs": [],
   "source": [
    "p2p=pd.read_excel(\"/Users/kang/Documents/Github/Pandas/Exercise/lending/p2p.xlsx\")"
   ]
  },
  {
   "cell_type": "code",
   "execution_count": 6,
   "metadata": {},
   "outputs": [],
   "source": [
    "p2p_refund=pd.read_excel(\"/Users/kang/Documents/Github/Pandas/Exercise/lending/p2p_refund.xlsx\")"
   ]
  },
  {
   "cell_type": "code",
   "execution_count": 7,
   "metadata": {},
   "outputs": [],
   "source": [
    "user=pd.read_excel(\"/Users/kang/Documents/Github/Pandas/Exercise/lending/user.xlsx\")"
   ]
  },
  {
   "cell_type": "code",
   "execution_count": 17,
   "metadata": {},
   "outputs": [
    {
     "name": "stdout",
     "output_type": "stream",
     "text": [
      "3215\n",
      "26830\n",
      "2156\n"
     ]
    }
   ],
   "source": [
    "print(join['경매번호'].nunique())\n",
    "print(p2p['경매번호'].nunique())\n",
    "print(p2p_refund['경매번호'].nunique())"
   ]
  },
  {
   "cell_type": "code",
   "execution_count": 22,
   "metadata": {},
   "outputs": [
    {
     "name": "stdout",
     "output_type": "stream",
     "text": [
      "투자성사여부\n",
      "0     10168\n",
      "1    235228\n",
      "dtype: int64\n",
      "투자모집 성공여부\n",
      "0    24760\n",
      "1     2095\n",
      "dtype: int64\n"
     ]
    }
   ],
   "source": [
    "print(join.groupby('투자성사여부').size())\n",
    "print(p2p.groupby('투자모집 성공여부').size())"
   ]
  },
  {
   "cell_type": "code",
   "execution_count": 64,
   "metadata": {},
   "outputs": [
    {
     "name": "stdout",
     "output_type": "stream",
     "text": [
      "6345\n",
      "78759\n"
     ]
    }
   ],
   "source": [
    "print(join['투자자ID'].nunique())\n",
    "print(user['투자자ID'].nunique())"
   ]
  },
  {
   "cell_type": "code",
   "execution_count": 65,
   "metadata": {},
   "outputs": [
    {
     "name": "stdout",
     "output_type": "stream",
     "text": [
      "11163\n"
     ]
    }
   ],
   "source": [
    "print(p2p['대출자ID'].nunique())"
   ]
  },
  {
   "cell_type": "code",
   "execution_count": 69,
   "metadata": {},
   "outputs": [
    {
     "data": {
      "text/html": [
       "<div>\n",
       "<style scoped>\n",
       "    .dataframe tbody tr th:only-of-type {\n",
       "        vertical-align: middle;\n",
       "    }\n",
       "\n",
       "    .dataframe tbody tr th {\n",
       "        vertical-align: top;\n",
       "    }\n",
       "\n",
       "    .dataframe thead th {\n",
       "        text-align: right;\n",
       "    }\n",
       "</style>\n",
       "<table border=\"1\" class=\"dataframe\">\n",
       "  <thead>\n",
       "    <tr style=\"text-align: right;\">\n",
       "      <th></th>\n",
       "      <th>경매번호</th>\n",
       "      <th>경매종류</th>\n",
       "      <th>참여순서</th>\n",
       "      <th>투자자ID</th>\n",
       "      <th>투자일시</th>\n",
       "      <th>투자금액금액</th>\n",
       "      <th>투자성사여부</th>\n",
       "      <th>입찰이자율</th>\n",
       "      <th>오토비딩</th>\n",
       "      <th>미투비딩갑</th>\n",
       "      <th>미투비딩을</th>\n",
       "      <th>Percentile_rank</th>\n",
       "    </tr>\n",
       "  </thead>\n",
       "  <tbody>\n",
       "    <tr>\n",
       "      <th>0</th>\n",
       "      <td>A8C32F3</td>\n",
       "      <td>개인</td>\n",
       "      <td>1</td>\n",
       "      <td>UAEB30A</td>\n",
       "      <td>2007-05-29 08:53:31</td>\n",
       "      <td>20000</td>\n",
       "      <td>0</td>\n",
       "      <td>13.0</td>\n",
       "      <td>0</td>\n",
       "      <td>0</td>\n",
       "      <td>0</td>\n",
       "      <td>0.716167</td>\n",
       "    </tr>\n",
       "    <tr>\n",
       "      <th>1</th>\n",
       "      <td>A8C32F3</td>\n",
       "      <td>개인</td>\n",
       "      <td>2</td>\n",
       "      <td>U886072</td>\n",
       "      <td>2007-05-28 14:10:45</td>\n",
       "      <td>20000</td>\n",
       "      <td>0</td>\n",
       "      <td>20.0</td>\n",
       "      <td>0</td>\n",
       "      <td>0</td>\n",
       "      <td>0</td>\n",
       "      <td>0.716167</td>\n",
       "    </tr>\n",
       "    <tr>\n",
       "      <th>2</th>\n",
       "      <td>A8C32F3</td>\n",
       "      <td>개인</td>\n",
       "      <td>3</td>\n",
       "      <td>U8A803C</td>\n",
       "      <td>2007-05-28 14:09:18</td>\n",
       "      <td>20000</td>\n",
       "      <td>0</td>\n",
       "      <td>15.0</td>\n",
       "      <td>0</td>\n",
       "      <td>0</td>\n",
       "      <td>0</td>\n",
       "      <td>0.716167</td>\n",
       "    </tr>\n",
       "    <tr>\n",
       "      <th>3</th>\n",
       "      <td>A8C32F3</td>\n",
       "      <td>개인</td>\n",
       "      <td>4</td>\n",
       "      <td>U886072</td>\n",
       "      <td>2007-05-28 14:04:55</td>\n",
       "      <td>20000</td>\n",
       "      <td>0</td>\n",
       "      <td>20.0</td>\n",
       "      <td>0</td>\n",
       "      <td>0</td>\n",
       "      <td>0</td>\n",
       "      <td>0.716167</td>\n",
       "    </tr>\n",
       "    <tr>\n",
       "      <th>4</th>\n",
       "      <td>AAD65CE</td>\n",
       "      <td>개인</td>\n",
       "      <td>1</td>\n",
       "      <td>U4E8DF4</td>\n",
       "      <td>2007-06-01 11:26:25</td>\n",
       "      <td>20000</td>\n",
       "      <td>0</td>\n",
       "      <td>7.0</td>\n",
       "      <td>0</td>\n",
       "      <td>0</td>\n",
       "      <td>0</td>\n",
       "      <td>0.716167</td>\n",
       "    </tr>\n",
       "  </tbody>\n",
       "</table>\n",
       "</div>"
      ],
      "text/plain": [
       "      경매번호 경매종류  참여순서    투자자ID                투자일시  투자금액금액  투자성사여부  입찰이자율  \\\n",
       "0  A8C32F3   개인     1  UAEB30A 2007-05-29 08:53:31   20000       0   13.0   \n",
       "1  A8C32F3   개인     2  U886072 2007-05-28 14:10:45   20000       0   20.0   \n",
       "2  A8C32F3   개인     3  U8A803C 2007-05-28 14:09:18   20000       0   15.0   \n",
       "3  A8C32F3   개인     4  U886072 2007-05-28 14:04:55   20000       0   20.0   \n",
       "4  AAD65CE   개인     1  U4E8DF4 2007-06-01 11:26:25   20000       0    7.0   \n",
       "\n",
       "   오토비딩  미투비딩갑  미투비딩을  Percentile_rank  \n",
       "0     0      0      0         0.716167  \n",
       "1     0      0      0         0.716167  \n",
       "2     0      0      0         0.716167  \n",
       "3     0      0      0         0.716167  \n",
       "4     0      0      0         0.716167  "
      ]
     },
     "execution_count": 69,
     "metadata": {},
     "output_type": "execute_result"
    }
   ],
   "source": [
    "join['Percentile_rank']=join.투자금액금액.rank(pct=True)\n",
    "join.head(5)"
   ]
  },
  {
   "cell_type": "code",
   "execution_count": 70,
   "metadata": {},
   "outputs": [],
   "source": [
    "q1 = join['투자금액금액'].quantile(q = 0.1)\n",
    "q2 = join['투자금액금액'].quantile(q = 0.2)\n",
    "q3 = join['투자금액금액'].quantile(q = 0.3)\n",
    "q4 = join['투자금액금액'].quantile(q = 0.4)\n",
    "q5 = join['투자금액금액'].quantile(q = 0.5)\n",
    "q6 = join['투자금액금액'].quantile(q = 0.6)\n",
    "q7 = join['투자금액금액'].quantile(q = 0.7)\n",
    "q8 = join['투자금액금액'].quantile(q = 0.8)\n",
    "q9 = join['투자금액금액'].quantile(q = 0.9)"
   ]
  },
  {
   "cell_type": "code",
   "execution_count": null,
   "metadata": {},
   "outputs": [],
   "source": [
    "investment_df = pd.DataFrame(np.arange(10), columns=['investment'])\n",
    "\n",
    "In [54]: investment_df['decile'] = pd.qcut(investment_df['investment'], 10, labels=False)\n",
    "\n",
    "In [55]: investment_df['quintile'] = pd.qcut(investment_df['investment'], 5, labels=False)\n",
    "\n",
    "In [56]: investment_df"
   ]
  },
  {
   "cell_type": "code",
   "execution_count": 74,
   "metadata": {},
   "outputs": [
    {
     "data": {
      "text/html": [
       "<div>\n",
       "<style scoped>\n",
       "    .dataframe tbody tr th:only-of-type {\n",
       "        vertical-align: middle;\n",
       "    }\n",
       "\n",
       "    .dataframe tbody tr th {\n",
       "        vertical-align: top;\n",
       "    }\n",
       "\n",
       "    .dataframe thead th {\n",
       "        text-align: right;\n",
       "    }\n",
       "</style>\n",
       "<table border=\"1\" class=\"dataframe\">\n",
       "  <thead>\n",
       "    <tr style=\"text-align: right;\">\n",
       "      <th></th>\n",
       "      <th>투자금액금액</th>\n",
       "      <th>decile</th>\n",
       "      <th>quintile</th>\n",
       "    </tr>\n",
       "  </thead>\n",
       "  <tbody>\n",
       "    <tr>\n",
       "      <th>0</th>\n",
       "      <td>0</td>\n",
       "      <td>0</td>\n",
       "      <td>0</td>\n",
       "    </tr>\n",
       "    <tr>\n",
       "      <th>1</th>\n",
       "      <td>1</td>\n",
       "      <td>1</td>\n",
       "      <td>0</td>\n",
       "    </tr>\n",
       "    <tr>\n",
       "      <th>2</th>\n",
       "      <td>2</td>\n",
       "      <td>2</td>\n",
       "      <td>1</td>\n",
       "    </tr>\n",
       "    <tr>\n",
       "      <th>3</th>\n",
       "      <td>3</td>\n",
       "      <td>3</td>\n",
       "      <td>1</td>\n",
       "    </tr>\n",
       "    <tr>\n",
       "      <th>4</th>\n",
       "      <td>4</td>\n",
       "      <td>4</td>\n",
       "      <td>2</td>\n",
       "    </tr>\n",
       "    <tr>\n",
       "      <th>5</th>\n",
       "      <td>5</td>\n",
       "      <td>5</td>\n",
       "      <td>2</td>\n",
       "    </tr>\n",
       "    <tr>\n",
       "      <th>6</th>\n",
       "      <td>6</td>\n",
       "      <td>6</td>\n",
       "      <td>3</td>\n",
       "    </tr>\n",
       "    <tr>\n",
       "      <th>7</th>\n",
       "      <td>7</td>\n",
       "      <td>7</td>\n",
       "      <td>3</td>\n",
       "    </tr>\n",
       "    <tr>\n",
       "      <th>8</th>\n",
       "      <td>8</td>\n",
       "      <td>8</td>\n",
       "      <td>4</td>\n",
       "    </tr>\n",
       "    <tr>\n",
       "      <th>9</th>\n",
       "      <td>9</td>\n",
       "      <td>9</td>\n",
       "      <td>4</td>\n",
       "    </tr>\n",
       "  </tbody>\n",
       "</table>\n",
       "</div>"
      ],
      "text/plain": [
       "   투자금액금액  decile  quintile\n",
       "0       0       0         0\n",
       "1       1       1         0\n",
       "2       2       2         1\n",
       "3       3       3         1\n",
       "4       4       4         2\n",
       "5       5       5         2\n",
       "6       6       6         3\n",
       "7       7       7         3\n",
       "8       8       8         4\n",
       "9       9       9         4"
      ]
     },
     "execution_count": 74,
     "metadata": {},
     "output_type": "execute_result"
    }
   ],
   "source": [
    "import numpy as np\n",
    "join = pd.DataFrame(np.arange(10), columns=['투자금액금액'])\n",
    "join['decile'] = pd.qcut(join['투자금액금액'], 10, labels=False)\n",
    "join['quintile'] = pd.qcut(join['투자금액금액'], 5, labels=False)\n",
    "join"
   ]
  },
  {
   "cell_type": "code",
   "execution_count": 72,
   "metadata": {},
   "outputs": [
    {
     "data": {
      "text/plain": [
       "50000.0"
      ]
     },
     "execution_count": 72,
     "metadata": {},
     "output_type": "execute_result"
    }
   ],
   "source": [
    "q9"
   ]
  },
  {
   "cell_type": "code",
   "execution_count": 67,
   "metadata": {},
   "outputs": [
    {
     "name": "stdout",
     "output_type": "stream",
     "text": [
      "      경매번호 경매종류  참여순서    투자자ID                투자일시  투자금액금액  투자성사여부  입찰이자율  \\\n",
      "0  A8C32F3   개인     1  UAEB30A 2007-05-29 08:53:31   20000       0   13.0   \n",
      "1  A8C32F3   개인     2  U886072 2007-05-28 14:10:45   20000       0   20.0   \n",
      "2  A8C32F3   개인     3  U8A803C 2007-05-28 14:09:18   20000       0   15.0   \n",
      "3  A8C32F3   개인     4  U886072 2007-05-28 14:04:55   20000       0   20.0   \n",
      "4  AAD65CE   개인     1  U4E8DF4 2007-06-01 11:26:25   20000       0    7.0   \n",
      "\n",
      "   오토비딩  미투비딩갑  미투비딩을                                             투자금액분위  \\\n",
      "0     0      0      0  <bound method GroupBy.quantile of <pandas.core...   \n",
      "1     0      0      0  <bound method GroupBy.quantile of <pandas.core...   \n",
      "2     0      0      0  <bound method GroupBy.quantile of <pandas.core...   \n",
      "3     0      0      0  <bound method GroupBy.quantile of <pandas.core...   \n",
      "4     0      0      0  <bound method GroupBy.quantile of <pandas.core...   \n",
      "\n",
      "   Percentile_rank  \n",
      "0         0.716167  \n",
      "1         0.716167  \n",
      "2         0.716167  \n",
      "3         0.716167  \n",
      "4         0.716167  \n",
      "<class 'pandas.core.frame.DataFrame'>\n",
      "RangeIndex: 245396 entries, 0 to 245395\n",
      "Data columns (total 13 columns):\n",
      " #   Column           Non-Null Count   Dtype         \n",
      "---  ------           --------------   -----         \n",
      " 0   경매번호             245396 non-null  object        \n",
      " 1   경매종류             245396 non-null  object        \n",
      " 2   참여순서             245396 non-null  int64         \n",
      " 3   투자자ID            245396 non-null  object        \n",
      " 4   투자일시             245396 non-null  datetime64[ns]\n",
      " 5   투자금액금액           245396 non-null  int64         \n",
      " 6   투자성사여부           245396 non-null  int64         \n",
      " 7   입찰이자율            245396 non-null  float64       \n",
      " 8   오토비딩             245396 non-null  int64         \n",
      " 9   미투비딩갑            245396 non-null  int64         \n",
      " 10  미투비딩을            245396 non-null  int64         \n",
      " 11  투자금액분위           245396 non-null  object        \n",
      " 12  Percentile_rank  245396 non-null  float64       \n",
      "dtypes: datetime64[ns](1), float64(2), int64(6), object(4)\n",
      "memory usage: 24.3+ MB\n",
      "None\n"
     ]
    }
   ],
   "source": [
    "print(join.head(5))\n",
    "print(join.info())"
   ]
  },
  {
   "cell_type": "code",
   "execution_count": 12,
   "metadata": {},
   "outputs": [
    {
     "name": "stdout",
     "output_type": "stream",
     "text": [
      "      경매번호             자금모집시작일             자금모집종료일    대출자ID  대출신청금액  상환기간  \\\n",
      "0  ADBB538 2007-05-28 05:00:35 2007-06-30 12:00:00  UE799D6     100     3   \n",
      "1  A6C8F3E 2007-05-28 05:21:12 2007-09-01 12:00:00  UE799D6     100    12   \n",
      "2  A8C32F3 2007-05-28 05:24:10 2007-09-01 12:00:00  UE799D6     200    12   \n",
      "3  AAD65CE 2007-05-28 09:44:38 2007-06-01 12:00:00  UB3D977     100     3   \n",
      "4  A22DEE1 2007-05-28 09:57:30 2007-06-29 12:00:00  UEA8D32     100     3   \n",
      "\n",
      "   대출자 제시 연 이자율  매칭방식 대출용도  투자모집 금액  ...  주거형태        거주지역     직종  직장세부  혼인상태  \\\n",
      "0          25.0     1  NaN      0.0  ...   NaN  서울 서초구 방배동  일반회사원   NaN     0   \n",
      "1          29.0     1  NaN      0.0  ...   NaN  서울 서초구 방배동  일반회사원   NaN     0   \n",
      "2          29.0     1  NaN      0.0  ...   NaN  서울 서초구 방배동  일반회사원   NaN     0   \n",
      "3           7.0     1  NaN      0.0  ...   NaN         NaN    NaN   NaN     0   \n",
      "4           6.0     1  NaN      0.0  ...   NaN         NaN    NaN   NaN     0   \n",
      "\n",
      "   동거인수  주거지명의  차량소유  개인회생  Q&A수 게시물 수  \n",
      "0     0    NaN     0     0           0  \n",
      "1     0    NaN     0     0           0  \n",
      "2     0    NaN     0     0           0  \n",
      "3     0    NaN     0     0           6  \n",
      "4     0    NaN     0     0           7  \n",
      "\n",
      "[5 rows x 39 columns]\n",
      "<class 'pandas.core.frame.DataFrame'>\n",
      "RangeIndex: 26855 entries, 0 to 26854\n",
      "Data columns (total 39 columns):\n",
      " #   Column        Non-Null Count  Dtype         \n",
      "---  ------        --------------  -----         \n",
      " 0   경매번호          26855 non-null  object        \n",
      " 1   자금모집시작일       26855 non-null  datetime64[ns]\n",
      " 2   자금모집종료일       26855 non-null  datetime64[ns]\n",
      " 3   대출자ID         26855 non-null  object        \n",
      " 4   대출신청금액        26855 non-null  int64         \n",
      " 5   상환기간          26855 non-null  int64         \n",
      " 6   대출자 제시 연 이자율  26855 non-null  float64       \n",
      " 7   매칭방식          26855 non-null  int64         \n",
      " 8   대출용도          14437 non-null  object        \n",
      " 9   투자모집 금액       26855 non-null  float64       \n",
      " 10  투자모집 성공여부     26855 non-null  int64         \n",
      " 11  투자참여인원수       26855 non-null  int64         \n",
      " 12  투자모집(오토비드)    26855 non-null  int64         \n",
      " 13  투자모집(미투비드)    26855 non-null  int64         \n",
      " 14  최종약정이자율       26855 non-null  float64       \n",
      " 15  신용보고서         26855 non-null  int64         \n",
      " 16  소득보고서         26855 non-null  int64         \n",
      " 17  핸드폰번호         26855 non-null  int64         \n",
      " 18  집전화번호         26855 non-null  int64         \n",
      " 19  회사전화번호        26855 non-null  int64         \n",
      " 20  개인정보서류        26855 non-null  int64         \n",
      " 21  월소득(만원)       26855 non-null  int64         \n",
      " 22  월지출(만원)       26855 non-null  float64       \n",
      " 23  상환후여유자금(만원)   26855 non-null  int64         \n",
      " 24  성별            26855 non-null  int64         \n",
      " 25  나이            24980 non-null  float64       \n",
      " 26  사연길이          26855 non-null  int64         \n",
      " 27  추가글 개수        26855 non-null  int64         \n",
      " 28  월지출 상세내역      13060 non-null  object        \n",
      " 29  주거형태          14221 non-null  object        \n",
      " 30  거주지역          24462 non-null  object        \n",
      " 31  직종            23321 non-null  object        \n",
      " 32  직장세부          20230 non-null  object        \n",
      " 33  혼인상태          26855 non-null  int64         \n",
      " 34  동거인수          26855 non-null  int64         \n",
      " 35  주거지명의         14180 non-null  object        \n",
      " 36  차량소유          26855 non-null  int64         \n",
      " 37  개인회생          26855 non-null  int64         \n",
      " 38  Q&A수 게시물 수    26855 non-null  int64         \n",
      "dtypes: datetime64[ns](2), float64(5), int64(23), object(9)\n",
      "memory usage: 8.0+ MB\n",
      "None\n"
     ]
    }
   ],
   "source": [
    "print(p2p.head(5))\n",
    "print(p2p.info())"
   ]
  },
  {
   "cell_type": "code",
   "execution_count": 13,
   "metadata": {},
   "outputs": [
    {
     "name": "stdout",
     "output_type": "stream",
     "text": [
      "      경매번호  회차                  기일      원금     이자      잔액                 입금일  \\\n",
      "0  A8182D3   1 2007-07-01 23:50:00  326485  20833  673515 2007-07-01 22:40:06   \n",
      "1  A8182D3   2 2007-08-01 23:50:00  333286  14032  340229 2007-07-25 12:48:28   \n",
      "2  AD2C091   1 2007-07-05 23:50:00   72829  24167  927171 2007-07-05 23:15:19   \n",
      "3  AD2C091   2 2007-08-05 23:50:00   74589  22407  852582 2007-08-05 22:05:24   \n",
      "4  AD2C091   3 2007-09-05 23:50:00   76392  20604  776190 2007-09-05 12:00:01   \n",
      "\n",
      "     입금원금   입금이자   입금후잔액  \n",
      "0  326561  20514  673439  \n",
      "1  673439   5390       0  \n",
      "2   73618  22308  926382  \n",
      "3   73618  20678  851134  \n",
      "4   76922  19004  774212  \n",
      "<class 'pandas.core.frame.DataFrame'>\n",
      "RangeIndex: 22163 entries, 0 to 22162\n",
      "Data columns (total 10 columns):\n",
      " #   Column  Non-Null Count  Dtype         \n",
      "---  ------  --------------  -----         \n",
      " 0   경매번호    22163 non-null  object        \n",
      " 1   회차      22163 non-null  int64         \n",
      " 2   기일      22163 non-null  datetime64[ns]\n",
      " 3   원금      22163 non-null  int64         \n",
      " 4   이자      22163 non-null  int64         \n",
      " 5   잔액      22163 non-null  int64         \n",
      " 6   입금일     20165 non-null  datetime64[ns]\n",
      " 7   입금원금    22163 non-null  int64         \n",
      " 8   입금이자    22163 non-null  int64         \n",
      " 9   입금후잔액   22163 non-null  int64         \n",
      "dtypes: datetime64[ns](2), int64(7), object(1)\n",
      "memory usage: 1.7+ MB\n",
      "None\n"
     ]
    }
   ],
   "source": [
    "print(p2p_refund.head(5))\n",
    "print(p2p_refund.info())"
   ]
  },
  {
   "cell_type": "code",
   "execution_count": 14,
   "metadata": {},
   "outputs": [
    {
     "name": "stdout",
     "output_type": "stream",
     "text": [
      "     투자자ID                 가입일  페이스북로그인   성별    나이  오토비드사용  미투비드갑사용  대부회원 여부\n",
      "0  U465105 2007-05-04 23:58:02        0  1.0  45.0       0        0        0\n",
      "1  UE799D6 2007-05-07 08:06:29        0  1.0  44.0       0        0        0\n",
      "2  U66D68A 2007-05-09 03:35:08        0  2.0  38.0       0        0        0\n",
      "3  UF4C400 2007-05-09 22:28:49        0  1.0  50.0       0        0        0\n",
      "4  U1C5442 2007-05-10 15:32:23        0  1.0  44.0       0        0        0\n",
      "<class 'pandas.core.frame.DataFrame'>\n",
      "RangeIndex: 78944 entries, 0 to 78943\n",
      "Data columns (total 8 columns):\n",
      " #   Column   Non-Null Count  Dtype         \n",
      "---  ------   --------------  -----         \n",
      " 0   투자자ID    78944 non-null  object        \n",
      " 1   가입일      78944 non-null  datetime64[ns]\n",
      " 2   페이스북로그인  78944 non-null  int64         \n",
      " 3   성별       78708 non-null  float64       \n",
      " 4   나이       78708 non-null  float64       \n",
      " 5   오토비드사용   78944 non-null  int64         \n",
      " 6   미투비드갑사용  78944 non-null  int64         \n",
      " 7   대부회원 여부  78944 non-null  int64         \n",
      "dtypes: datetime64[ns](1), float64(2), int64(4), object(1)\n",
      "memory usage: 4.8+ MB\n",
      "None\n"
     ]
    }
   ],
   "source": [
    "print(user.head(5))\n",
    "print(user.info())"
   ]
  },
  {
   "cell_type": "code",
   "execution_count": 49,
   "metadata": {},
   "outputs": [
    {
     "data": {
      "text/plain": [
       "오토비드사용\n",
       "0    78912\n",
       "1       32\n",
       "dtype: int64"
      ]
     },
     "execution_count": 49,
     "metadata": {},
     "output_type": "execute_result"
    }
   ],
   "source": [
    "user.groupby(['오토비드사용']).size()"
   ]
  },
  {
   "cell_type": "code",
   "execution_count": 51,
   "metadata": {},
   "outputs": [
    {
     "data": {
      "text/plain": [
       "미투비드갑사용\n",
       "0    78901\n",
       "1       43\n",
       "dtype: int64"
      ]
     },
     "execution_count": 51,
     "metadata": {},
     "output_type": "execute_result"
    }
   ],
   "source": [
    "user.groupby(['미투비드갑사용']).size()"
   ]
  },
  {
   "cell_type": "code",
   "execution_count": 42,
   "metadata": {},
   "outputs": [
    {
     "data": {
      "text/plain": [
       "75"
      ]
     },
     "execution_count": 42,
     "metadata": {},
     "output_type": "execute_result"
    }
   ],
   "source": [
    "user['투자경험회수']=user['오토비드사용']+user['미투비드갑사용']\n",
    "user1=user.loc[user['투자경험회수']>0,:]\n",
    "user1['투자자ID'].nunique()"
   ]
  },
  {
   "cell_type": "code",
   "execution_count": 45,
   "metadata": {},
   "outputs": [
    {
     "data": {
      "text/html": [
       "<div>\n",
       "<style scoped>\n",
       "    .dataframe tbody tr th:only-of-type {\n",
       "        vertical-align: middle;\n",
       "    }\n",
       "\n",
       "    .dataframe tbody tr th {\n",
       "        vertical-align: top;\n",
       "    }\n",
       "\n",
       "    .dataframe thead th {\n",
       "        text-align: right;\n",
       "    }\n",
       "</style>\n",
       "<table border=\"1\" class=\"dataframe\">\n",
       "  <thead>\n",
       "    <tr style=\"text-align: right;\">\n",
       "      <th></th>\n",
       "      <th>페이스북로그인</th>\n",
       "      <th>성별</th>\n",
       "      <th>나이</th>\n",
       "      <th>오토비드사용</th>\n",
       "      <th>미투비드갑사용</th>\n",
       "      <th>대부회원 여부</th>\n",
       "      <th>투자경험회수</th>\n",
       "    </tr>\n",
       "    <tr>\n",
       "      <th>투자자ID</th>\n",
       "      <th></th>\n",
       "      <th></th>\n",
       "      <th></th>\n",
       "      <th></th>\n",
       "      <th></th>\n",
       "      <th></th>\n",
       "      <th></th>\n",
       "    </tr>\n",
       "  </thead>\n",
       "  <tbody>\n",
       "    <tr>\n",
       "      <th>U02161F</th>\n",
       "      <td>0</td>\n",
       "      <td>1.0</td>\n",
       "      <td>39.0</td>\n",
       "      <td>0</td>\n",
       "      <td>1</td>\n",
       "      <td>0</td>\n",
       "      <td>1</td>\n",
       "    </tr>\n",
       "    <tr>\n",
       "      <th>U044B97</th>\n",
       "      <td>0</td>\n",
       "      <td>1.0</td>\n",
       "      <td>30.0</td>\n",
       "      <td>1</td>\n",
       "      <td>0</td>\n",
       "      <td>0</td>\n",
       "      <td>1</td>\n",
       "    </tr>\n",
       "    <tr>\n",
       "      <th>U091856</th>\n",
       "      <td>1</td>\n",
       "      <td>1.0</td>\n",
       "      <td>33.0</td>\n",
       "      <td>0</td>\n",
       "      <td>1</td>\n",
       "      <td>0</td>\n",
       "      <td>1</td>\n",
       "    </tr>\n",
       "    <tr>\n",
       "      <th>U0E6AA0</th>\n",
       "      <td>0</td>\n",
       "      <td>1.0</td>\n",
       "      <td>39.0</td>\n",
       "      <td>0</td>\n",
       "      <td>1</td>\n",
       "      <td>0</td>\n",
       "      <td>1</td>\n",
       "    </tr>\n",
       "    <tr>\n",
       "      <th>U1040AD</th>\n",
       "      <td>0</td>\n",
       "      <td>1.0</td>\n",
       "      <td>32.0</td>\n",
       "      <td>1</td>\n",
       "      <td>0</td>\n",
       "      <td>0</td>\n",
       "      <td>1</td>\n",
       "    </tr>\n",
       "    <tr>\n",
       "      <th>...</th>\n",
       "      <td>...</td>\n",
       "      <td>...</td>\n",
       "      <td>...</td>\n",
       "      <td>...</td>\n",
       "      <td>...</td>\n",
       "      <td>...</td>\n",
       "      <td>...</td>\n",
       "    </tr>\n",
       "    <tr>\n",
       "      <th>UEA4F5A</th>\n",
       "      <td>0</td>\n",
       "      <td>1.0</td>\n",
       "      <td>31.0</td>\n",
       "      <td>0</td>\n",
       "      <td>1</td>\n",
       "      <td>0</td>\n",
       "      <td>1</td>\n",
       "    </tr>\n",
       "    <tr>\n",
       "      <th>UED9822</th>\n",
       "      <td>0</td>\n",
       "      <td>1.0</td>\n",
       "      <td>45.0</td>\n",
       "      <td>0</td>\n",
       "      <td>1</td>\n",
       "      <td>0</td>\n",
       "      <td>1</td>\n",
       "    </tr>\n",
       "    <tr>\n",
       "      <th>UEE5898</th>\n",
       "      <td>0</td>\n",
       "      <td>2.0</td>\n",
       "      <td>33.0</td>\n",
       "      <td>0</td>\n",
       "      <td>1</td>\n",
       "      <td>0</td>\n",
       "      <td>1</td>\n",
       "    </tr>\n",
       "    <tr>\n",
       "      <th>UFA7A4C</th>\n",
       "      <td>0</td>\n",
       "      <td>1.0</td>\n",
       "      <td>47.0</td>\n",
       "      <td>0</td>\n",
       "      <td>1</td>\n",
       "      <td>0</td>\n",
       "      <td>1</td>\n",
       "    </tr>\n",
       "    <tr>\n",
       "      <th>UFBEBCD</th>\n",
       "      <td>0</td>\n",
       "      <td>1.0</td>\n",
       "      <td>23.0</td>\n",
       "      <td>1</td>\n",
       "      <td>0</td>\n",
       "      <td>0</td>\n",
       "      <td>1</td>\n",
       "    </tr>\n",
       "  </tbody>\n",
       "</table>\n",
       "<p>75 rows × 7 columns</p>\n",
       "</div>"
      ],
      "text/plain": [
       "         페이스북로그인   성별    나이  오토비드사용  미투비드갑사용  대부회원 여부  투자경험회수\n",
       "투자자ID                                                        \n",
       "U02161F        0  1.0  39.0       0        1        0       1\n",
       "U044B97        0  1.0  30.0       1        0        0       1\n",
       "U091856        1  1.0  33.0       0        1        0       1\n",
       "U0E6AA0        0  1.0  39.0       0        1        0       1\n",
       "U1040AD        0  1.0  32.0       1        0        0       1\n",
       "...          ...  ...   ...     ...      ...      ...     ...\n",
       "UEA4F5A        0  1.0  31.0       0        1        0       1\n",
       "UED9822        0  1.0  45.0       0        1        0       1\n",
       "UEE5898        0  2.0  33.0       0        1        0       1\n",
       "UFA7A4C        0  1.0  47.0       0        1        0       1\n",
       "UFBEBCD        0  1.0  23.0       1        0        0       1\n",
       "\n",
       "[75 rows x 7 columns]"
      ]
     },
     "execution_count": 45,
     "metadata": {},
     "output_type": "execute_result"
    }
   ],
   "source": [
    "user1.groupby('투자자ID').mean()"
   ]
  },
  {
   "cell_type": "code",
   "execution_count": 41,
   "metadata": {},
   "outputs": [
    {
     "data": {
      "text/plain": [
       "75"
      ]
     },
     "execution_count": 41,
     "metadata": {},
     "output_type": "execute_result"
    }
   ],
   "source": []
  },
  {
   "cell_type": "code",
   "execution_count": null,
   "metadata": {},
   "outputs": [],
   "source": []
  }
 ],
 "metadata": {
  "kernelspec": {
   "display_name": "Python 3",
   "language": "python",
   "name": "python3"
  },
  "language_info": {
   "codemirror_mode": {
    "name": "ipython",
    "version": 3
   },
   "file_extension": ".py",
   "mimetype": "text/x-python",
   "name": "python",
   "nbconvert_exporter": "python",
   "pygments_lexer": "ipython3",
   "version": "3.7.6"
  }
 },
 "nbformat": 4,
 "nbformat_minor": 4
}
