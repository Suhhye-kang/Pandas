{
 "cells": [
  {
   "cell_type": "code",
   "execution_count": 1,
   "metadata": {},
   "outputs": [],
   "source": [
    "import pandas as pd"
   ]
  },
  {
   "cell_type": "code",
   "execution_count": 2,
   "metadata": {},
   "outputs": [],
   "source": [
    "apt_sell=pd.read_excel('/Users/kang/Pandas/Real/apt_sell_all.xlsx')"
   ]
  },
  {
   "cell_type": "code",
   "execution_count": 3,
   "metadata": {},
   "outputs": [],
   "source": [
    "off_sell=pd.read_excel('/Users/kang/Pandas/Real/off_sell_all.xlsx')"
   ]
  },
  {
   "cell_type": "code",
   "execution_count": 18,
   "metadata": {},
   "outputs": [],
   "source": [
    "apt_rent1=pd.read_excel('/Users/kang/Pandas/Real/apt_rent_all_1.xlsx')\n",
    "apt_rent2=pd.read_excel('/Users/kang/Pandas/Real/apt_rent_all_2.xlsx')"
   ]
  },
  {
   "cell_type": "code",
   "execution_count": 21,
   "metadata": {},
   "outputs": [
    {
     "data": {
      "text/html": [
       "<div>\n",
       "<style scoped>\n",
       "    .dataframe tbody tr th:only-of-type {\n",
       "        vertical-align: middle;\n",
       "    }\n",
       "\n",
       "    .dataframe tbody tr th {\n",
       "        vertical-align: top;\n",
       "    }\n",
       "\n",
       "    .dataframe thead th {\n",
       "        text-align: right;\n",
       "    }\n",
       "</style>\n",
       "<table border=\"1\" class=\"dataframe\">\n",
       "  <thead>\n",
       "    <tr style=\"text-align: right;\">\n",
       "      <th></th>\n",
       "      <th>Unnamed: 0</th>\n",
       "      <th>city</th>\n",
       "      <th>town</th>\n",
       "      <th>village</th>\n",
       "      <th>name</th>\n",
       "      <th>category</th>\n",
       "      <th>size</th>\n",
       "      <th>deposit</th>\n",
       "      <th>monthlyrent</th>\n",
       "      <th>floor</th>\n",
       "      <th>year_built</th>\n",
       "      <th>yy</th>\n",
       "      <th>mm</th>\n",
       "      <th>dd</th>\n",
       "      <th>zipcode</th>\n",
       "      <th>address</th>\n",
       "    </tr>\n",
       "  </thead>\n",
       "  <tbody>\n",
       "    <tr>\n",
       "      <th>0</th>\n",
       "      <td>0</td>\n",
       "      <td>서울특별시</td>\n",
       "      <td>강남구</td>\n",
       "      <td>개포동</td>\n",
       "      <td>개포2차현대아파트(220)</td>\n",
       "      <td>전세</td>\n",
       "      <td>77.75</td>\n",
       "      <td>0</td>\n",
       "      <td>0</td>\n",
       "      <td>8.0</td>\n",
       "      <td>1988</td>\n",
       "      <td>2014</td>\n",
       "      <td>9</td>\n",
       "      <td>1</td>\n",
       "      <td>655-2</td>\n",
       "      <td>언주로 103</td>\n",
       "    </tr>\n",
       "    <tr>\n",
       "      <th>1</th>\n",
       "      <td>1</td>\n",
       "      <td>서울특별시</td>\n",
       "      <td>강남구</td>\n",
       "      <td>개포동</td>\n",
       "      <td>개포2차현대아파트(220)</td>\n",
       "      <td>전세</td>\n",
       "      <td>77.75</td>\n",
       "      <td>0</td>\n",
       "      <td>0</td>\n",
       "      <td>4.0</td>\n",
       "      <td>1988</td>\n",
       "      <td>2014</td>\n",
       "      <td>12</td>\n",
       "      <td>21</td>\n",
       "      <td>655-2</td>\n",
       "      <td>언주로 103</td>\n",
       "    </tr>\n",
       "    <tr>\n",
       "      <th>2</th>\n",
       "      <td>2</td>\n",
       "      <td>서울특별시</td>\n",
       "      <td>강남구</td>\n",
       "      <td>개포동</td>\n",
       "      <td>개포2차현대아파트(220)</td>\n",
       "      <td>전세</td>\n",
       "      <td>77.75</td>\n",
       "      <td>0</td>\n",
       "      <td>0</td>\n",
       "      <td>7.0</td>\n",
       "      <td>1988</td>\n",
       "      <td>2014</td>\n",
       "      <td>12</td>\n",
       "      <td>24</td>\n",
       "      <td>655-2</td>\n",
       "      <td>언주로 103</td>\n",
       "    </tr>\n",
       "    <tr>\n",
       "      <th>3</th>\n",
       "      <td>8</td>\n",
       "      <td>서울특별시</td>\n",
       "      <td>강남구</td>\n",
       "      <td>개포동</td>\n",
       "      <td>개포6차우성아파트1동~8동</td>\n",
       "      <td>전세</td>\n",
       "      <td>67.28</td>\n",
       "      <td>0</td>\n",
       "      <td>0</td>\n",
       "      <td>5.0</td>\n",
       "      <td>1987</td>\n",
       "      <td>2014</td>\n",
       "      <td>8</td>\n",
       "      <td>8</td>\n",
       "      <td>658-1</td>\n",
       "      <td>언주로 3</td>\n",
       "    </tr>\n",
       "    <tr>\n",
       "      <th>4</th>\n",
       "      <td>9</td>\n",
       "      <td>서울특별시</td>\n",
       "      <td>강남구</td>\n",
       "      <td>개포동</td>\n",
       "      <td>개포6차우성아파트1동~8동</td>\n",
       "      <td>전세</td>\n",
       "      <td>79.97</td>\n",
       "      <td>0</td>\n",
       "      <td>0</td>\n",
       "      <td>3.0</td>\n",
       "      <td>1987</td>\n",
       "      <td>2014</td>\n",
       "      <td>8</td>\n",
       "      <td>18</td>\n",
       "      <td>658-1</td>\n",
       "      <td>언주로 3</td>\n",
       "    </tr>\n",
       "    <tr>\n",
       "      <th>...</th>\n",
       "      <td>...</td>\n",
       "      <td>...</td>\n",
       "      <td>...</td>\n",
       "      <td>...</td>\n",
       "      <td>...</td>\n",
       "      <td>...</td>\n",
       "      <td>...</td>\n",
       "      <td>...</td>\n",
       "      <td>...</td>\n",
       "      <td>...</td>\n",
       "      <td>...</td>\n",
       "      <td>...</td>\n",
       "      <td>...</td>\n",
       "      <td>...</td>\n",
       "      <td>...</td>\n",
       "      <td>...</td>\n",
       "    </tr>\n",
       "    <tr>\n",
       "      <th>565908</th>\n",
       "      <td>92309</td>\n",
       "      <td>서울특별시</td>\n",
       "      <td>중랑구</td>\n",
       "      <td>중화동</td>\n",
       "      <td>한영(103)</td>\n",
       "      <td>전세</td>\n",
       "      <td>50.29</td>\n",
       "      <td>0</td>\n",
       "      <td>0</td>\n",
       "      <td>5.0</td>\n",
       "      <td>2003</td>\n",
       "      <td>2011</td>\n",
       "      <td>3</td>\n",
       "      <td>17</td>\n",
       "      <td>274-76</td>\n",
       "      <td>동일로144길 74</td>\n",
       "    </tr>\n",
       "    <tr>\n",
       "      <th>565909</th>\n",
       "      <td>92310</td>\n",
       "      <td>서울특별시</td>\n",
       "      <td>중랑구</td>\n",
       "      <td>중화동</td>\n",
       "      <td>한영(104)</td>\n",
       "      <td>전세</td>\n",
       "      <td>67.57</td>\n",
       "      <td>0</td>\n",
       "      <td>0</td>\n",
       "      <td>4.0</td>\n",
       "      <td>2003</td>\n",
       "      <td>2011</td>\n",
       "      <td>1</td>\n",
       "      <td>21</td>\n",
       "      <td>274-77</td>\n",
       "      <td>동일로144길 74</td>\n",
       "    </tr>\n",
       "    <tr>\n",
       "      <th>565910</th>\n",
       "      <td>92311</td>\n",
       "      <td>서울특별시</td>\n",
       "      <td>중랑구</td>\n",
       "      <td>중화동</td>\n",
       "      <td>현대휴앤미</td>\n",
       "      <td>전세</td>\n",
       "      <td>82.97</td>\n",
       "      <td>0</td>\n",
       "      <td>0</td>\n",
       "      <td>7.0</td>\n",
       "      <td>2007</td>\n",
       "      <td>2011</td>\n",
       "      <td>4</td>\n",
       "      <td>10</td>\n",
       "      <td>11</td>\n",
       "      <td>봉화산로27가길 23</td>\n",
       "    </tr>\n",
       "    <tr>\n",
       "      <th>565911</th>\n",
       "      <td>92312</td>\n",
       "      <td>서울특별시</td>\n",
       "      <td>중랑구</td>\n",
       "      <td>중화동</td>\n",
       "      <td>현대휴앤미</td>\n",
       "      <td>전세</td>\n",
       "      <td>100.20</td>\n",
       "      <td>0</td>\n",
       "      <td>0</td>\n",
       "      <td>6.0</td>\n",
       "      <td>2007</td>\n",
       "      <td>2011</td>\n",
       "      <td>7</td>\n",
       "      <td>28</td>\n",
       "      <td>11</td>\n",
       "      <td>봉화산로27가길 23</td>\n",
       "    </tr>\n",
       "    <tr>\n",
       "      <th>565912</th>\n",
       "      <td>92313</td>\n",
       "      <td>서울특별시</td>\n",
       "      <td>중랑구</td>\n",
       "      <td>중화동</td>\n",
       "      <td>현대휴앤미(102동)</td>\n",
       "      <td>전세</td>\n",
       "      <td>67.36</td>\n",
       "      <td>0</td>\n",
       "      <td>0</td>\n",
       "      <td>6.0</td>\n",
       "      <td>2007</td>\n",
       "      <td>2011</td>\n",
       "      <td>7</td>\n",
       "      <td>15</td>\n",
       "      <td>11-7</td>\n",
       "      <td>봉화산로27가길 19</td>\n",
       "    </tr>\n",
       "  </tbody>\n",
       "</table>\n",
       "<p>565913 rows × 16 columns</p>\n",
       "</div>"
      ],
      "text/plain": [
       "        Unnamed: 0   city town village            name category    size  \\\n",
       "0                0  서울특별시  강남구     개포동  개포2차현대아파트(220)       전세   77.75   \n",
       "1                1  서울특별시  강남구     개포동  개포2차현대아파트(220)       전세   77.75   \n",
       "2                2  서울특별시  강남구     개포동  개포2차현대아파트(220)       전세   77.75   \n",
       "3                8  서울특별시  강남구     개포동  개포6차우성아파트1동~8동       전세   67.28   \n",
       "4                9  서울특별시  강남구     개포동  개포6차우성아파트1동~8동       전세   79.97   \n",
       "...            ...    ...  ...     ...             ...      ...     ...   \n",
       "565908       92309  서울특별시  중랑구     중화동         한영(103)       전세   50.29   \n",
       "565909       92310  서울특별시  중랑구     중화동         한영(104)       전세   67.57   \n",
       "565910       92311  서울특별시  중랑구     중화동           현대휴앤미       전세   82.97   \n",
       "565911       92312  서울특별시  중랑구     중화동           현대휴앤미       전세  100.20   \n",
       "565912       92313  서울특별시  중랑구     중화동     현대휴앤미(102동)       전세   67.36   \n",
       "\n",
       "        deposit  monthlyrent  floor  year_built    yy  mm  dd zipcode  \\\n",
       "0             0            0    8.0        1988  2014   9   1   655-2   \n",
       "1             0            0    4.0        1988  2014  12  21   655-2   \n",
       "2             0            0    7.0        1988  2014  12  24   655-2   \n",
       "3             0            0    5.0        1987  2014   8   8   658-1   \n",
       "4             0            0    3.0        1987  2014   8  18   658-1   \n",
       "...         ...          ...    ...         ...   ...  ..  ..     ...   \n",
       "565908        0            0    5.0        2003  2011   3  17  274-76   \n",
       "565909        0            0    4.0        2003  2011   1  21  274-77   \n",
       "565910        0            0    7.0        2007  2011   4  10      11   \n",
       "565911        0            0    6.0        2007  2011   7  28      11   \n",
       "565912        0            0    6.0        2007  2011   7  15    11-7   \n",
       "\n",
       "            address  \n",
       "0           언주로 103  \n",
       "1           언주로 103  \n",
       "2           언주로 103  \n",
       "3             언주로 3  \n",
       "4             언주로 3  \n",
       "...             ...  \n",
       "565908   동일로144길 74  \n",
       "565909   동일로144길 74  \n",
       "565910  봉화산로27가길 23  \n",
       "565911  봉화산로27가길 23  \n",
       "565912  봉화산로27가길 19  \n",
       "\n",
       "[565913 rows x 16 columns]"
      ]
     },
     "execution_count": 21,
     "metadata": {},
     "output_type": "execute_result"
    }
   ],
   "source": [
    "apt_rent1"
   ]
  },
  {
   "cell_type": "code",
   "execution_count": null,
   "metadata": {},
   "outputs": [],
   "source": [
    "off_sell"
   ]
  },
  {
   "cell_type": "code",
   "execution_count": 22,
   "metadata": {},
   "outputs": [],
   "source": [
    "apt_sell['category']='매매'\n",
    "off_sell['category']='매매'\n",
    "apt_sell['deposit']='미해당'\n",
    "apt_sell['monthlyrent']='미해당'\n",
    "off_sell['deposit']='미해당'\n",
    "off_sell['monthlyrent']='미해당'\n",
    "apt_rent1['price']='미해당'"
   ]
  },
  {
   "cell_type": "code",
   "execution_count": 37,
   "metadata": {},
   "outputs": [],
   "source": [
    "apt_sell['type']='아파트'\n",
    "apt_rent1['type']='아파트'\n",
    "apt_rent2['type']='아파트'\n",
    "off_sell['type']='오피스텔'\n",
    "\n"
   ]
  },
  {
   "cell_type": "code",
   "execution_count": 40,
   "metadata": {},
   "outputs": [],
   "source": [
    "neworder = [ 'type','city', 'town', 'village', 'name', 'category', 'size','deposit', 'monthlyrent', 'floor', 'year_built', 'yy', 'mm', 'dd','zipcode', 'address']"
   ]
  },
  {
   "cell_type": "code",
   "execution_count": 41,
   "metadata": {},
   "outputs": [],
   "source": [
    "apt_sell=apt_sell.reindex(columns=neworder)\n",
    "off_sell=off_sell.reindex(columns=neworder)\n",
    "apt_rent1=apt_rent1.reindex(columns=neworder)\n",
    "apt_rent2=apt_rent2.reindex(columns=neworder)\n"
   ]
  },
  {
   "cell_type": "code",
   "execution_count": 47,
   "metadata": {},
   "outputs": [],
   "source": [
    "all=pd.concat([apt_sell,off_sell,apt_rent1,apt_rent2])"
   ]
  },
  {
   "cell_type": "code",
   "execution_count": 49,
   "metadata": {},
   "outputs": [
    {
     "name": "stdout",
     "output_type": "stream",
     "text": [
      "<class 'pandas.core.frame.DataFrame'>\n",
      "Int64Index: 2401078 entries, 0 to 912966\n",
      "Data columns (total 16 columns):\n",
      " #   Column       Dtype  \n",
      "---  ------       -----  \n",
      " 0   type         object \n",
      " 1   city         object \n",
      " 2   town         object \n",
      " 3   village      object \n",
      " 4   name         object \n",
      " 5   category     object \n",
      " 6   size         float64\n",
      " 7   deposit      object \n",
      " 8   monthlyrent  object \n",
      " 9   floor        float64\n",
      " 10  year_built   float64\n",
      " 11  yy           int64  \n",
      " 12  mm           int64  \n",
      " 13  dd           int64  \n",
      " 14  zipcode      object \n",
      " 15  address      object \n",
      "dtypes: float64(3), int64(3), object(10)\n",
      "memory usage: 311.4+ MB\n"
     ]
    }
   ],
   "source": [
    "all.info()"
   ]
  },
  {
   "cell_type": "code",
   "execution_count": 50,
   "metadata": {},
   "outputs": [
    {
     "data": {
      "text/plain": [
       "type              0\n",
       "city              0\n",
       "town              0\n",
       "village           0\n",
       "name              0\n",
       "category          0\n",
       "size             31\n",
       "deposit           0\n",
       "monthlyrent       0\n",
       "floor            31\n",
       "year_built      808\n",
       "yy                0\n",
       "mm                0\n",
       "dd                0\n",
       "zipcode        1593\n",
       "address           0\n",
       "dtype: int64"
      ]
     },
     "execution_count": 50,
     "metadata": {},
     "output_type": "execute_result"
    }
   ],
   "source": [
    "all.isnull().sum()"
   ]
  },
  {
   "cell_type": "code",
   "execution_count": 51,
   "metadata": {},
   "outputs": [],
   "source": [
    "all.fillna('모름',inplace=True)"
   ]
  },
  {
   "cell_type": "code",
   "execution_count": 52,
   "metadata": {},
   "outputs": [
    {
     "data": {
      "text/plain": [
       "type           0\n",
       "city           0\n",
       "town           0\n",
       "village        0\n",
       "name           0\n",
       "category       0\n",
       "size           0\n",
       "deposit        0\n",
       "monthlyrent    0\n",
       "floor          0\n",
       "year_built     0\n",
       "yy             0\n",
       "mm             0\n",
       "dd             0\n",
       "zipcode        0\n",
       "address        0\n",
       "dtype: int64"
      ]
     },
     "execution_count": 52,
     "metadata": {},
     "output_type": "execute_result"
    }
   ],
   "source": [
    "all.isnull().sum()"
   ]
  },
  {
   "cell_type": "code",
   "execution_count": 65,
   "metadata": {},
   "outputs": [],
   "source": [
    "all1=all.loc[all['yy']<2014]\n",
    "all2=all.loc[(all['yy']>2013)&(all['yy']<2017)]\n",
    "all3=all.loc[all['yy']>2016]\n"
   ]
  },
  {
   "cell_type": "code",
   "execution_count": 63,
   "metadata": {},
   "outputs": [],
   "source": [
    "all1.to_excel('/Users/kang/Pandas/Real/all_2010_2013.xlsx')"
   ]
  },
  {
   "cell_type": "code",
   "execution_count": 66,
   "metadata": {},
   "outputs": [],
   "source": [
    "all2.to_excel('/Users/kang/Pandas/Real/all_2014_2016.xlsx')"
   ]
  },
  {
   "cell_type": "code",
   "execution_count": null,
   "metadata": {},
   "outputs": [],
   "source": [
    "yongsan=all.loc[all['town']=='용산구']"
   ]
  },
  {
   "cell_type": "code",
   "execution_count": null,
   "metadata": {},
   "outputs": [],
   "source": [
    "yongsan.groupby(['village','yy'])['zi']"
   ]
  },
  {
   "cell_type": "code",
   "execution_count": null,
   "metadata": {},
   "outputs": [],
   "source": [
    "yon"
   ]
  }
 ],
 "metadata": {
  "kernelspec": {
   "display_name": "Python 3",
   "language": "python",
   "name": "python3"
  },
  "language_info": {
   "codemirror_mode": {
    "name": "ipython",
    "version": 3
   },
   "file_extension": ".py",
   "mimetype": "text/x-python",
   "name": "python",
   "nbconvert_exporter": "python",
   "pygments_lexer": "ipython3",
   "version": "3.7.6"
  }
 },
 "nbformat": 4,
 "nbformat_minor": 4
}
